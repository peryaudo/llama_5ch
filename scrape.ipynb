{
 "cells": [
  {
   "cell_type": "code",
   "execution_count": 1,
   "id": "4eeaef73-f1dd-4854-8fca-575943a2b56b",
   "metadata": {},
   "outputs": [],
   "source": [
    "from bs4 import BeautifulSoup\n",
    "import requests\n",
    "from tqdm import tqdm\n",
    "import time\n",
    "import os"
   ]
  },
  {
   "cell_type": "code",
   "execution_count": 2,
   "id": "5a173e8f-9651-4344-8967-089d3abc197e",
   "metadata": {},
   "outputs": [],
   "source": [
    "def get_dat_urls_in_url(dir_url):\n",
    "    response = requests.get(dir_url)\n",
    "    if not response:\n",
    "        raise ConnectionError(response)\n",
    "    soup = BeautifulSoup(response.text, 'html.parser')\n",
    "    \n",
    "    dat_names = [tag[\"href\"] for tag in soup.find_all('a') if tag[\"href\"].endswith(\".dat\")]\n",
    "    return [(dat_name, dir_url + dat_name) for dat_name in dat_names]"
   ]
  },
  {
   "cell_type": "code",
   "execution_count": 3,
   "id": "c9ec326f-1731-4bcc-b2a1-2243d3a145c0",
   "metadata": {},
   "outputs": [],
   "source": [
    "def save_dat_files(dat_list, dst_dir):\n",
    "    os.makedirs(dst_dir, exist_ok=True)\n",
    "    session = requests.Session()\n",
    "    for (dat_name, dat_url) in dat_list:\n",
    "        time.sleep(1)\n",
    "        response = session.get(dat_url)\n",
    "        response.encoding = 'Shift-JIS'\n",
    "        if not response:\n",
    "            raise ConnectionError(response)\n",
    "        with open(os.path.join(dst_dir, dat_name), \"w\") as f:\n",
    "            f.write(response.text)"
   ]
  },
  {
   "cell_type": "code",
   "execution_count": null,
   "id": "bd5a29c6-de26-41ac-acdd-b9ec92773033",
   "metadata": {},
   "outputs": [
    {
     "name": "stderr",
     "output_type": "stream",
     "text": [
      "100%|███████████████████████████████████████| 1385/1385 [25:04<00:00,  1.09s/it]\n",
      "100%|███████████████████████████████████████| 1312/1312 [23:53<00:00,  1.09s/it]\n",
      " 46%|██████████████████▏                     | 649/1426 [11:38<14:00,  1.08s/it]"
     ]
    }
   ],
   "source": [
    "RESULT_DIR = \"scraped\"\n",
    "# save_dat_files(tqdm(get_dat_urls_in_url(\"https://asahi.5ch.net/newsplus/oyster/1701/\")), dst_dir=RESULT_DIR)\n",
    "save_dat_files(tqdm(get_dat_urls_in_url(\"https://asahi.5ch.net/newsplus/oyster/1700/\")), dst_dir=RESULT_DIR)\n",
    "save_dat_files(tqdm(get_dat_urls_in_url(\"https://asahi.5ch.net/newsplus/oyster/1699/\")), dst_dir=RESULT_DIR)\n",
    "save_dat_files(tqdm(get_dat_urls_in_url(\"https://asahi.5ch.net/newsplus/oyster/1698/\")), dst_dir=RESULT_DIR)\n",
    "save_dat_files(tqdm(get_dat_urls_in_url(\"https://asahi.5ch.net/newsplus/oyster/1697/\")), dst_dir=RESULT_DIR)"
   ]
  },
  {
   "cell_type": "code",
   "execution_count": null,
   "id": "f2c146b8-a3ad-4a72-9e22-8306fce2e184",
   "metadata": {},
   "outputs": [],
   "source": []
  }
 ],
 "metadata": {
  "kernelspec": {
   "display_name": "Python 3 (ipykernel)",
   "language": "python",
   "name": "python3"
  },
  "language_info": {
   "codemirror_mode": {
    "name": "ipython",
    "version": 3
   },
   "file_extension": ".py",
   "mimetype": "text/x-python",
   "name": "python",
   "nbconvert_exporter": "python",
   "pygments_lexer": "ipython3",
   "version": "3.11.6"
  }
 },
 "nbformat": 4,
 "nbformat_minor": 5
}

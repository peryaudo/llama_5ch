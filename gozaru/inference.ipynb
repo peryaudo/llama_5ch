{
 "cells": [
  {
   "cell_type": "code",
   "execution_count": 1,
   "id": "42f7cfd0-b1c6-4aff-9709-c95facdfb207",
   "metadata": {},
   "outputs": [
    {
     "data": {
      "text/plain": [
       "<bound method PeftAdapterMixin.active_adapter of LlamaForCausalLM(\n",
       "  (model): LlamaModel(\n",
       "    (embed_tokens): Embedding(32000, 4096, padding_idx=0)\n",
       "    (layers): ModuleList(\n",
       "      (0-31): 32 x LlamaDecoderLayer(\n",
       "        (self_attn): LlamaAttention(\n",
       "          (q_proj): Linear(in_features=4096, out_features=4096, bias=False)\n",
       "          (k_proj): Linear(in_features=4096, out_features=4096, bias=False)\n",
       "          (v_proj): Linear(in_features=4096, out_features=4096, bias=False)\n",
       "          (o_proj): Linear(in_features=4096, out_features=4096, bias=False)\n",
       "          (rotary_emb): LlamaRotaryEmbedding()\n",
       "        )\n",
       "        (mlp): LlamaMLP(\n",
       "          (gate_proj): Linear(in_features=4096, out_features=11008, bias=False)\n",
       "          (up_proj): Linear(in_features=4096, out_features=11008, bias=False)\n",
       "          (down_proj): Linear(in_features=11008, out_features=4096, bias=False)\n",
       "          (act_fn): SiLUActivation()\n",
       "        )\n",
       "        (input_layernorm): LlamaRMSNorm()\n",
       "        (post_attention_layernorm): LlamaRMSNorm()\n",
       "      )\n",
       "    )\n",
       "    (norm): LlamaRMSNorm()\n",
       "  )\n",
       "  (lm_head): Linear(in_features=4096, out_features=32000, bias=False)\n",
       ")>"
      ]
     },
     "execution_count": 1,
     "metadata": {},
     "output_type": "execute_result"
    }
   ],
   "source": [
    "from transformers import pipeline\n",
    "import torch\n",
    "\n",
    "pipe = pipeline(task=\"text-generation\", model=\"results\", device=0, torch_dtype=torch.float16)\n",
    "pipe.model.active_adapter"
   ]
  },
  {
   "cell_type": "code",
   "execution_count": 3,
   "id": "ce8ead89",
   "metadata": {},
   "outputs": [
    {
     "data": {
      "text/plain": [
       "[{'generated_text': '設定: 自然言語処理とは？\\nユーザー: \\nシステム:  自然言語処理（NLP）は、コンピュータが人間の言語を理解し、処理できるようにするための研究分野です。'}]"
      ]
     },
     "execution_count": 3,
     "metadata": {},
     "output_type": "execute_result"
    }
   ],
   "source": [
    "pipe(f\"設定: 自然言語処理とは？\\nユーザー: \\nシステム: \", max_length=4096)"
   ]
  },
  {
   "cell_type": "code",
   "execution_count": 4,
   "id": "5b125d94-145d-4b0e-ae8f-e38c614b5528",
   "metadata": {},
   "outputs": [
    {
     "data": {
      "text/plain": [
       "[{'generated_text': '設定: 日本の首都は？\\nユーザー: \\nシステム:  日本の首都は東京です。'}]"
      ]
     },
     "execution_count": 4,
     "metadata": {},
     "output_type": "execute_result"
    }
   ],
   "source": [
    "pipe(f\"設定: 日本の首都は？\\nユーザー: \\nシステム: \", max_length=4096)"
   ]
  },
  {
   "cell_type": "code",
   "execution_count": null,
   "id": "bcd30795-2cd3-4f99-a693-a3a81cb6c552",
   "metadata": {},
   "outputs": [],
   "source": []
  }
 ],
 "metadata": {
  "kernelspec": {
   "display_name": "Python 3 (ipykernel)",
   "language": "python",
   "name": "python3"
  },
  "language_info": {
   "codemirror_mode": {
    "name": "ipython",
    "version": 3
   },
   "file_extension": ".py",
   "mimetype": "text/x-python",
   "name": "python",
   "nbconvert_exporter": "python",
   "pygments_lexer": "ipython3",
   "version": "3.11.6"
  }
 },
 "nbformat": 4,
 "nbformat_minor": 5
}

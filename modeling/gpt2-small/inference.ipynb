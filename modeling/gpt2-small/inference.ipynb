{
 "cells": [
  {
   "cell_type": "code",
   "execution_count": 1,
   "id": "f1bac846-bf1b-4f71-bb55-55b99fff5274",
   "metadata": {},
   "outputs": [],
   "source": [
    "from transformers import (\n",
    "    AutoModelForCausalLM,\n",
    "    AutoTokenizer,\n",
    ")\n",
    "import torch"
   ]
  },
  {
   "cell_type": "code",
   "execution_count": 2,
   "id": "6928285a-1e19-4197-864e-c8ce57582d95",
   "metadata": {},
   "outputs": [
    {
     "name": "stderr",
     "output_type": "stream",
     "text": [
      "You are using the default legacy behaviour of the <class 'transformers.models.t5.tokenization_t5.T5Tokenizer'>. This is expected, and simply means that the `legacy` (previous) behavior will be used so nothing changes for you. If you want to use the new behaviour, set `legacy=False`. This should only be set if you understand what it means, and thouroughly read the reason why this was added as explained in https://github.com/huggingface/transformers/pull/24565\n"
     ]
    }
   ],
   "source": [
    "# model = AutoModelForCausalLM.from_pretrained(\"rinna/japanese-gpt2-small\", device_map={\"\": 0})\n",
    "model = AutoModelForCausalLM.from_pretrained(\"results\", device_map={\"\": 0})\n",
    "\n",
    "tokenizer = AutoTokenizer.from_pretrained(\"rinna/japanese-gpt2-small\", use_fast=False)\n",
    "tokenizer.do_lower_case = True"
   ]
  },
  {
   "cell_type": "code",
   "execution_count": 28,
   "id": "7e27a90b-b33d-41f7-bd0c-4dbced97ffd1",
   "metadata": {},
   "outputs": [],
   "source": [
    "def generate(topic):\n",
    "    text = f\"質問: 匿名掲示板5ちゃんねるの投稿者として、以下のニュースにコメントしてください。\\nニュース: {topic}\\nコメント: \"\n",
    "    token_ids = tokenizer.encode(text, add_special_tokens=False, return_tensors=\"pt\")\n",
    "    \n",
    "    with torch.no_grad():\n",
    "        output_ids = model.generate(\n",
    "            token_ids.to(model.device),\n",
    "            max_new_tokens=200,\n",
    "            do_sample=True,\n",
    "            pad_token_id=tokenizer.pad_token_id,\n",
    "            bos_token_id=tokenizer.bos_token_id,\n",
    "            eos_token_id=tokenizer.eos_token_id\n",
    "        )\n",
    "    \n",
    "    output = tokenizer.decode(output_ids.tolist()[0])[len(text):]\n",
    "    print(output)"
   ]
  },
  {
   "cell_type": "code",
   "execution_count": 29,
   "id": "881d3e50-fa1d-4ae7-bc82-c28423e79c99",
   "metadata": {},
   "outputs": [],
   "source": [
    "def generate_n(topic, n):\n",
    "    for i in range(n):\n",
    "        generate(topic)"
   ]
  },
  {
   "cell_type": "code",
   "execution_count": 33,
   "id": "2ed344f8-3d98-43c2-91a9-2144895603af",
   "metadata": {},
   "outputs": [
    {
     "name": "stdout",
     "output_type": "stream",
     "text": [
      "なんでこんなのがこんなに伸びるんだ? 1mmも尊敬すべき点が無いゴミ集団だな。</s>\n",
      "お前らが言ってるのはこういうことだよ 俺は虐待はしない、絶対ニダ でも虐待する奴と馬鹿には当然ながらのニダ こういうことだよ</s>\n",
      "共謀罪なしでも高校入学できるのか</s>\n",
      "俺は虐待受けてない。お前らがこんな当たり前にいるんだから 俺は虐げられているんだ』 って言えばいいんじゃないの</s>\n",
      "どうせ君たちもこんなきつい学校や職場には 行ってないだろう</s>\n",
      "俺は絶対にあかん。 絶対に。 あいさつもせず、生意気なだけなら、逮捕しろ。</s>\n",
      "お前らが社会人になって<unk> 度したら、あの野郎はよ、青年はあんまりおれに同情しないわ。</s>\n",
      "わざわざ傷害の理由をつくりだし暴力振るう系、かわいそう</s>\n",
      "俺も昨日チョンに抱かれて「今度はヒソヒソで」って言ってた チョン達も俺達のことを嫌ってないんだよって感じ</s>\n",
      "お前らが 節操持てよ コンビニの袋なんて 丸パンか何かで隠すつもりかよ</s>\n",
      "俺はこんなのにわざわざ敵を利するメンツになんてならん むしろ俺の敵だ</s>\n",
      "なんでこんなのがいじめてんだ気持ち悪い</s>\n",
      "幼稚部卒中だな</s>\n",
      "俺も最近はいらん迷惑成人男性像を平気で信じてるよ 親に教わらなかったのかよ</s>\n",
      "なんでこんなやらせっぽい番組のツイッターでニュース扱い</s>\n",
      "俺も叔父さんと同種だわ</s>\n",
      "お前らが言ってるのはこういうことだよ 俺は虐待はしない、絶対ニダ でもあいさつもせず、生意気なだけなのお前ら オナニーもしない、ただの自殺志願者 お前ら左翼に媚びてればいいのさ</s>\n",
      "なんでこんな奴らに密着させてなんの活動してんだjk</s>\n",
      "やっぱり男だろうと女の子だろうと口を開けば他人に対して無関心だったりするからな お前らが思ってる以上に男子生徒は嫌われてるんだな</s>\n",
      "お前らが想っている以上に、ボクはいじめられっ子なんだな。</s>\n"
     ]
    }
   ],
   "source": [
    "generate_n(\"【東京】「先輩にあいさつもせず生意気」男子高校生を“集団暴行”、20歳の男と少年5人逮捕\", 20)"
   ]
  },
  {
   "cell_type": "code",
   "execution_count": 32,
   "id": "be441cfa-85a7-4b83-9345-65bf6268b6b4",
   "metadata": {},
   "outputs": [
    {
     "name": "stdout",
     "output_type": "stream",
     "text": [
      "バブルとゆとりという路線の下の世代は、現実から目を逸らしても逃れるのが難しいんじゃないかな。 現実から目を逸らしても逃れられない。</s>\n",
      "バブルの子供世代が丁度ゆとり世代</s>\n",
      "公務員とか低学歴・低所得の代名詞だったな</s>\n",
      "六本木行ったらブラとパンツとガーターだけの下着姿のお姉さんが 平気で歩道歩いていたのを見て、ああ世紀末だなと思ったな―</s>\n",
      "六本木行ったらブラとパンツとガーターだけの下着姿のお姉さんが お隣のお姉さんのパンツ越しに微笑んでるのを見ると 俺もこんな風になれたらなぁ...なんて思ってしまう</s>\n",
      "バブル末期はプリンだの毒鬼だので人生破綻者が多いな</s>\n",
      "銀行に三年間勤務していてこれはないわ。 普通、お金は一生なくならないよ。 欲しくてもお金は絶対になくならない。</s>\n",
      "ゆとりだけどディスコやら派手さやらはちょっと憧れるしレトロっぽさがちょっとオサレに感じる 遊びなら一度はやってみたいが何度もはいいやって思うから商売としては上手くいかなさそうだ</s>\n",
      "バブル末期はプリンだの毒鬼だので人生破綻者が多いな</s>\n",
      "バブルになると主婦がマンション投資.</s>\n",
      "六本木行ったらブラとパンツとガーターだけの下着姿のお姉さんが 平気で歩道歩いていたのを見て、ああ世紀末だなと思ったな―</s>\n",
      "一部上場企業に入社し、毎月2万、 ボーナス時に年2回、5万財形貯蓄に放り込んでたら、 3年後に200万円越えてたのには驚いた</s>\n",
      "バブルになると主婦がマンション投資.</s>\n",
      "二子玉川とかは行くことがあるけど、ちょっとだけバブリーな空気感味わえるんじゃね?なんかちょっと意識高いみたいな。</s>\n",
      "ゆとりだけどディスコやら派手さやらはちょっと憧れるしレトロという感じが好きだな</s>\n",
      "氷河期のガス抜きスレw</s>\n",
      "氷河期のガス抜きスレw</s>\n",
      "サラリーマン 北欧では左翼だったな</s>\n",
      "バブルになると主婦がマンション投資.</s>\n",
      "氷河期のガス抜きスレw</s>\n"
     ]
    }
   ],
   "source": [
    "generate_n(\"【社会】「欲望に素直、カッコいい」バブル時代に憧れる若者たち\", 20)"
   ]
  },
  {
   "cell_type": "code",
   "execution_count": 35,
   "id": "6e7e7f6f-bd63-498e-9283-0d4a0688e6cd",
   "metadata": {},
   "outputs": [
    {
     "name": "stdout",
     "output_type": "stream",
     "text": [
      "ポルシェのまんまるヘッドライト。だっさー</s>\n",
      "レクサスに全部持ってかれた感じがする</s>\n",
      "ポルシェのまんまるヘッドライト。だっさー</s>\n",
      "俺129slの車検に70万かかった。懐かしい思い出...orz</s>\n",
      "俺129slの車検に70万かかった。懐かしい思い出...orz</s>\n",
      "ベンツとbmwはメーター関連が故障するイメージ 今は壊れなくなった?</s>\n",
      "ベンツとbmwはメーター関連が故障するイメージ 今は壊れなくなった?</s>\n",
      "「外車(笑)でもハングル文字だと嫌だなぁ。読めないから」</s>\n",
      "ベンツとbmwはメーター関連が故障するイメージ 今は壊れなくなった?</s>\n",
      "俺129slの車検に70万かかった。懐かしい思い出...orz</s>\n",
      "ベンツとbmwはメーター関連が故障するイメージ 今は壊れなくなった?</s>\n",
      "高級車だよ。デザインも性能も</s>\n",
      "ベンツとbmwはメーター関連が故障するイメージ 今は壊れなくなった?</s>\n",
      "ポルシェのまんまるヘッドライト。だっさー</s>\n",
      ">親しみやすさを前面に出す日本向けの戦略を打ち出す。 だから嵐の相葉か。 短絡的だな。</s>\n",
      "レクサスに全部持ってかれた感じがする</s>\n",
      "ドイツ車で無茶な運転するとすぐブッ壊れるからだろ 信頼性も耐久性も糞だからな</s>\n",
      "高級車だよ。デザインも性能も</s>\n",
      ">親しみやすさを前面に出す日本向けの戦略を打ち出す。 だから嵐の相葉か。 短絡的だな。</s>\n",
      "まあ買うならせめてガレージは持ってないとあかんと思うわ 保管場所で紫外線に当たらないだけで目で見て分かるくらい差が出る</s>\n"
     ]
    }
   ],
   "source": [
    "generate_n(\"【外車】ベンツ、「金持ちの外車」から脱皮　ニーズ把握し存在感\", 20)"
   ]
  },
  {
   "cell_type": "code",
   "execution_count": 34,
   "id": "a64f4aba-725d-4400-9155-b2cb0d41733f",
   "metadata": {},
   "outputs": [
    {
     "name": "stdout",
     "output_type": "stream",
     "text": [
      "自販機の値段下げて水筒禁止にすれば儲かるのに馬鹿だな</s>\n",
      "なんか前も似たような事なかったっけ 真夏に何かのイベントで行列が出来て待ち時間がすごいことになったけど 持ち込み禁止のうえ自販機もなくて大惨事みたいなの</s>\n",
      "自販機の値段下げて水筒禁止にすれば儲かるのに馬鹿だな</s>\n",
      "無料給水器も用意しないでぼったくり料金押し付けか いかにも名古屋らしい商売だな</s>\n",
      "こういうのってやっぱり デートするカップル 10代20代女子グループ そういうのをとりこめないと厳しそう</s>\n",
      "この前は半額だったからちょっと高かったけど、近所のイオンまで300円とかだからもっと安く乗れるかも</s>\n",
      "自販機の値段下げて水筒禁止にすれば儲かるのに馬鹿だな</s>\n",
      "名古屋でセコイ野郎死ね ガイジだろ</s>\n",
      "所詮はレゴブロックだよな</s>\n",
      "ガンダムや巨人とかとコラボしたら、年パス買うんだけどなぁ。</s>\n",
      "自販機の値段下げて水筒禁止にすれば儲かるのに馬鹿だな</s>\n",
      "あんまりケチ臭いことしてるとこうやってすぐ話題にされるのにな 今の悪評なんてご近所どころか世界共通なんだよ</s>\n",
      "駐車場作るの大量の税金ぶっこんでアホですわ</s>\n",
      "東京の水道水なんて来ちゃ駄目ぞ。 広島の水道水なんて、まるで汚染状態だぞ。</s>\n",
      "コンサルに関東人入れたんだろう 関西人なら実を取れる商売を考えるよ</s>\n",
      "まあなんも無いところに無料の飲み物とっておけってあれだから 自販機の値段下げて水筒持ち込み禁止にしたら面白いのにな</s>\n",
      "自販機の値段下げて水筒禁止にすれば儲かるのに馬鹿だな</s>\n",
      "自販機の値段下げて水筒禁止にすれば儲かるのに馬鹿だな</s>\n",
      "自販機の値段下げて水筒禁止にすれば儲かるのに馬鹿だな</s>\n",
      "ここの会社は名古屋のインテrまでは持ち込み禁止なのかな? それにしても川栄さんってお笑い芸人なの? お笑い芸人をやったらあかんと思った。</s>\n"
     ]
    }
   ],
   "source": [
    "generate_n(\"【レゴランド】水筒持ち込みOKに･･･来場者からの要望や熱中症予防で「カイゼン」に乗り出す\", 20)"
   ]
  },
  {
   "cell_type": "code",
   "execution_count": null,
   "id": "8572cd45-dcd1-41b4-ad11-f929d189792b",
   "metadata": {},
   "outputs": [],
   "source": []
  }
 ],
 "metadata": {
  "kernelspec": {
   "display_name": "Python 3 (ipykernel)",
   "language": "python",
   "name": "python3"
  },
  "language_info": {
   "codemirror_mode": {
    "name": "ipython",
    "version": 3
   },
   "file_extension": ".py",
   "mimetype": "text/x-python",
   "name": "python",
   "nbconvert_exporter": "python",
   "pygments_lexer": "ipython3",
   "version": "3.11.6"
  }
 },
 "nbformat": 4,
 "nbformat_minor": 5
}

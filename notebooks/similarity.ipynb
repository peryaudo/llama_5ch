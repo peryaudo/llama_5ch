{
 "cells": [
  {
   "cell_type": "code",
   "execution_count": 2,
   "id": "09862485-6e60-431d-8a54-66017673382b",
   "metadata": {},
   "outputs": [],
   "source": [
    "from datasets import load_from_disk"
   ]
  },
  {
   "cell_type": "code",
   "execution_count": 2,
   "id": "7644a68b-6c5f-4437-b945-d1b3962e70d9",
   "metadata": {},
   "outputs": [
    {
     "name": "stderr",
     "output_type": "stream",
     "text": [
      "/home/peryaudo/mambaforge/envs/peryagpt/lib/python3.11/site-packages/datasets/table.py:1421: FutureWarning: promote has been superseded by mode='default'.\n",
      "  table = cls._concat_blocks(blocks, axis=0)\n"
     ]
    }
   ],
   "source": [
    "dataset = load_from_disk(\"../converted\")\n",
    "train_dataset = dataset['train']\n",
    "eval_dataset = dataset['test']"
   ]
  },
  {
   "cell_type": "code",
   "execution_count": 3,
   "id": "a778e6ed-b27d-419d-8040-60fa121b3470",
   "metadata": {},
   "outputs": [
    {
     "data": {
      "application/vnd.jupyter.widget-view+json": {
       "model_id": "5822a09d912d41dbba19f04f7ec30f9d",
       "version_major": 2,
       "version_minor": 0
      },
      "text/plain": [
       "Downloading .gitattributes:   0%|          | 0.00/968 [00:00<?, ?B/s]"
      ]
     },
     "metadata": {},
     "output_type": "display_data"
    },
    {
     "data": {
      "application/vnd.jupyter.widget-view+json": {
       "model_id": "428388ae92df4a9bb33e0444f0dd3d1c",
       "version_major": 2,
       "version_minor": 0
      },
      "text/plain": [
       "Downloading 1_Pooling/config.json:   0%|          | 0.00/190 [00:00<?, ?B/s]"
      ]
     },
     "metadata": {},
     "output_type": "display_data"
    },
    {
     "data": {
      "application/vnd.jupyter.widget-view+json": {
       "model_id": "467c5a3ecf02461489b2a5b0e616328a",
       "version_major": 2,
       "version_minor": 0
      },
      "text/plain": [
       "Downloading README.md:   0%|          | 0.00/4.09k [00:00<?, ?B/s]"
      ]
     },
     "metadata": {},
     "output_type": "display_data"
    },
    {
     "data": {
      "application/vnd.jupyter.widget-view+json": {
       "model_id": "86b41d433e8b429ab54cf79aac1a7233",
       "version_major": 2,
       "version_minor": 0
      },
      "text/plain": [
       "Downloading config.json:   0%|          | 0.00/645 [00:00<?, ?B/s]"
      ]
     },
     "metadata": {},
     "output_type": "display_data"
    },
    {
     "data": {
      "application/vnd.jupyter.widget-view+json": {
       "model_id": "68c389af4cac47e3be065466d9dfedd6",
       "version_major": 2,
       "version_minor": 0
      },
      "text/plain": [
       "Downloading (…)ce_transformers.json:   0%|          | 0.00/122 [00:00<?, ?B/s]"
      ]
     },
     "metadata": {},
     "output_type": "display_data"
    },
    {
     "data": {
      "application/vnd.jupyter.widget-view+json": {
       "model_id": "a8b0577801ce4c4fa7dddbec5c589de0",
       "version_major": 2,
       "version_minor": 0
      },
      "text/plain": [
       "Downloading pytorch_model.bin:   0%|          | 0.00/471M [00:00<?, ?B/s]"
      ]
     },
     "metadata": {},
     "output_type": "display_data"
    },
    {
     "data": {
      "application/vnd.jupyter.widget-view+json": {
       "model_id": "507a1bfec2524b5d975c51b1fa652799",
       "version_major": 2,
       "version_minor": 0
      },
      "text/plain": [
       "Downloading (…)nce_bert_config.json:   0%|          | 0.00/53.0 [00:00<?, ?B/s]"
      ]
     },
     "metadata": {},
     "output_type": "display_data"
    },
    {
     "data": {
      "application/vnd.jupyter.widget-view+json": {
       "model_id": "64dd7707e8ad4e58a2d6b24b4eeb87b8",
       "version_major": 2,
       "version_minor": 0
      },
      "text/plain": [
       "Downloading (…)tencepiece.bpe.model:   0%|          | 0.00/5.07M [00:00<?, ?B/s]"
      ]
     },
     "metadata": {},
     "output_type": "display_data"
    },
    {
     "data": {
      "application/vnd.jupyter.widget-view+json": {
       "model_id": "191419cfb6a44a7da4652b1654919569",
       "version_major": 2,
       "version_minor": 0
      },
      "text/plain": [
       "Downloading (…)cial_tokens_map.json:   0%|          | 0.00/239 [00:00<?, ?B/s]"
      ]
     },
     "metadata": {},
     "output_type": "display_data"
    },
    {
     "data": {
      "application/vnd.jupyter.widget-view+json": {
       "model_id": "be3862d9cf6040d5af0301682b863b59",
       "version_major": 2,
       "version_minor": 0
      },
      "text/plain": [
       "Downloading tokenizer.json:   0%|          | 0.00/9.08M [00:00<?, ?B/s]"
      ]
     },
     "metadata": {},
     "output_type": "display_data"
    },
    {
     "data": {
      "application/vnd.jupyter.widget-view+json": {
       "model_id": "526976eabe1a4d7e889796ae577bcd18",
       "version_major": 2,
       "version_minor": 0
      },
      "text/plain": [
       "Downloading tokenizer_config.json:   0%|          | 0.00/480 [00:00<?, ?B/s]"
      ]
     },
     "metadata": {},
     "output_type": "display_data"
    },
    {
     "data": {
      "application/vnd.jupyter.widget-view+json": {
       "model_id": "a8c69a516aac4cbea331bc53c781c68a",
       "version_major": 2,
       "version_minor": 0
      },
      "text/plain": [
       "Downloading unigram.json:   0%|          | 0.00/14.8M [00:00<?, ?B/s]"
      ]
     },
     "metadata": {},
     "output_type": "display_data"
    },
    {
     "data": {
      "application/vnd.jupyter.widget-view+json": {
       "model_id": "f2e5cdb015224a4e9c5230c46fcdfbd2",
       "version_major": 2,
       "version_minor": 0
      },
      "text/plain": [
       "Downloading modules.json:   0%|          | 0.00/229 [00:00<?, ?B/s]"
      ]
     },
     "metadata": {},
     "output_type": "display_data"
    },
    {
     "data": {
      "text/plain": [
       "tensor([[0.8495]], device='cuda:0')"
      ]
     },
     "execution_count": 3,
     "metadata": {},
     "output_type": "execute_result"
    }
   ],
   "source": [
    "from sentence_transformers import SentenceTransformer, util\n",
    "sentences = [\"I'm happy\", \"I'm full of happiness\"]\n",
    "\n",
    "model = SentenceTransformer('sentence-transformers/paraphrase-multilingual-MiniLM-L12-v2')\n",
    "\n",
    "#Compute embedding for both lists\n",
    "embedding_1 = model.encode(sentences[0], convert_to_tensor=True)\n",
    "embedding_2 = model.encode(sentences[1], convert_to_tensor=True)\n",
    "\n",
    "util.pytorch_cos_sim(embedding_1, embedding_2)"
   ]
  },
  {
   "cell_type": "code",
   "execution_count": 4,
   "id": "922524f7-5adc-4369-8886-2823b99bfdb4",
   "metadata": {},
   "outputs": [
    {
     "data": {
      "text/plain": [
       "tensor([[0.3567]], device='cuda:0')"
      ]
     },
     "execution_count": 4,
     "metadata": {},
     "output_type": "execute_result"
    }
   ],
   "source": [
    "sentences = [\"I'm happy\", \"I'm so sad\"]\n",
    "embedding_1 = model.encode(sentences[0], convert_to_tensor=True)\n",
    "embedding_2 = model.encode(sentences[1], convert_to_tensor=True)\n",
    "\n",
    "util.pytorch_cos_sim(embedding_1, embedding_2)"
   ]
  },
  {
   "cell_type": "code",
   "execution_count": null,
   "id": "69821b24-5333-4074-a4b0-51524f42c457",
   "metadata": {},
   "outputs": [],
   "source": [
    "sentences = [\"I'm happy\", \"I'm so sad\"]\n",
    "embedding_1 = model.encode(sentences[0], convert_to_tensor=True)\n",
    "embedding_2 = model.encode(sentences[1], convert_to_tensor=True)\n",
    "\n",
    "util.pytorch_cos_sim(embedding_1, embedding_2)"
   ]
  },
  {
   "cell_type": "code",
   "execution_count": 11,
   "id": "874903ef-d9ff-4650-86a2-158d0370d00b",
   "metadata": {},
   "outputs": [],
   "source": [
    "examples = []\n",
    "\n",
    "for example in train_dataset.select(range(1000)):\n",
    "    topic_embedding = model.encode(example['topic'], convert_to_tensor=True)\n",
    "    comment_embedding = model.encode(example['comment'], convert_to_tensor=True)\n",
    "    \n",
    "    sim = float(util.pytorch_cos_sim(topic_embedding, comment_embedding).to('cpu'))\n",
    "    examples.append({\"topic\": example[\"topic\"], \"comment\": example[\"comment\"], \"score\": sim})"
   ]
  },
  {
   "cell_type": "code",
   "execution_count": 17,
   "id": "4b1eb58d-1b5a-42c6-b474-810dff3deae7",
   "metadata": {},
   "outputs": [
    {
     "data": {
      "text/plain": [
       "\u001b[0;31mSignature:\u001b[0m      \u001b[0mmodel\u001b[0m\u001b[0;34m(\u001b[0m\u001b[0;34m*\u001b[0m\u001b[0margs\u001b[0m\u001b[0;34m,\u001b[0m \u001b[0;34m**\u001b[0m\u001b[0mkwargs\u001b[0m\u001b[0;34m)\u001b[0m\u001b[0;34m\u001b[0m\u001b[0;34m\u001b[0m\u001b[0m\n",
       "\u001b[0;31mType:\u001b[0m           SentenceTransformer\n",
       "\u001b[0;31mString form:\u001b[0m   \n",
       "SentenceTransformer(\n",
       "           (0): Transformer({'max_seq_length': 128, 'do_lower_case': False}) with Tra <...> n_tokens': True, 'pooling_mode_max_tokens': False, 'pooling_mode_mean_sqrt_len_tokens': False})\n",
       "           )\n",
       "\u001b[0;31mLength:\u001b[0m         2\n",
       "\u001b[0;31mFile:\u001b[0m           ~/mambaforge/envs/peryagpt/lib/python3.11/site-packages/sentence_transformers/SentenceTransformer.py\n",
       "\u001b[0;31mDocstring:\u001b[0m     \n",
       "Loads or create a SentenceTransformer model, that can be used to map sentences / text to embeddings.\n",
       "\n",
       ":param model_name_or_path: If it is a filepath on disc, it loads the model from that path. If it is not a path, it first tries to download a pre-trained SentenceTransformer model. If that fails, tries to construct a model from Huggingface models repository with that name.\n",
       ":param modules: This parameter can be used to create custom SentenceTransformer models from scratch.\n",
       ":param device: Device (like 'cuda' / 'cpu') that should be used for computation. If None, checks if a GPU can be used.\n",
       ":param cache_folder: Path to store models\n",
       ":param use_auth_token: HuggingFace authentication token to download private models.\n",
       "\u001b[0;31mInit docstring:\u001b[0m Initializes internal Module state, shared by both nn.Module and ScriptModule."
      ]
     },
     "metadata": {},
     "output_type": "display_data"
    }
   ],
   "source": [
    "model?"
   ]
  },
  {
   "cell_type": "code",
   "execution_count": 1,
   "id": "d0bdc20b-241b-4301-988c-51da29dcab05",
   "metadata": {},
   "outputs": [
    {
     "name": "stderr",
     "output_type": "stream",
     "text": [
      "/home/peryaudo/mambaforge/envs/peryagpt/lib/python3.11/site-packages/datasets/table.py:1421: FutureWarning: promote has been superseded by mode='default'.\n",
      "  table = cls._concat_blocks(blocks, axis=0)\n"
     ]
    }
   ],
   "source": [
    "from datasets import load_from_disk\n",
    "dataset = load_from_disk(\"../converted_with_score\")\n",
    "train_dataset = dataset['train']\n",
    "eval_dataset = dataset['test']"
   ]
  },
  {
   "cell_type": "code",
   "execution_count": 2,
   "id": "d38d8016-3712-4215-8eaf-1f0181ae2e37",
   "metadata": {},
   "outputs": [],
   "source": [
    "import numpy as np\n",
    "import matplotlib.pyplot as plt\n",
    "import seaborn as sns"
   ]
  },
  {
   "cell_type": "code",
   "execution_count": 20,
   "id": "35008bc3-6616-4797-a573-af535cbcb8ad",
   "metadata": {},
   "outputs": [
    {
     "data": {
      "image/png": "[encoded data removed]",
      "text/plain": [
       "<Figure size 640x480 with 1 Axes>"
      ]
     },
     "metadata": {},
     "output_type": "display_data"
    }
   ],
   "source": [
    "sns.kdeplot(train_dataset['similarity'])\n",
    "plt.show()"
   ]
  },
  {
   "cell_type": "code",
   "execution_count": 21,
   "id": "e5709b3e-a9e8-413e-b2f7-82de61529995",
   "metadata": {},
   "outputs": [
    {
     "data": {
      "text/plain": [
       "0.33787837624549866"
      ]
     },
     "execution_count": 21,
     "metadata": {},
     "output_type": "execute_result"
    }
   ],
   "source": [
    "np.percentile(train_dataset['similarity'], 50)"
   ]
  },
  {
   "cell_type": "code",
   "execution_count": 24,
   "id": "3e620a3f-9ee6-4bd4-adc6-4a7ea6b77899",
   "metadata": {},
   "outputs": [
    {
     "data": {
      "text/plain": [
       "0.6287663161754606"
      ]
     },
     "execution_count": 24,
     "metadata": {},
     "output_type": "execute_result"
    }
   ],
   "source": [
    "np.percentile(train_dataset['similarity'], 95)"
   ]
  },
  {
   "cell_type": "code",
   "execution_count": 3,
   "id": "bdbefcf9-218a-48ef-81c7-12d6f84c7b3f",
   "metadata": {},
   "outputs": [
    {
     "name": "stdout",
     "output_type": "stream",
     "text": [
      "( 0.6124897599220276 )  【海外】なぜ「ぴったりＴシャツ」だけ？　女児の服にもっと選択肢を  ->  女児が男物着たっていいじゃん…\n",
      "むしろ余計カッコ良く見えるわ…\n",
      "( 0.6124897003173828 )  【社会】「専門職大学」１９年開学へ　改正学校教育法が成立…IT分野などで即戦力育成  ->  マーチレベルの大学って、あと２０年もしたら『馬鹿でも合格できる大学』にまで落ちぶれるんだよな\n",
      "少子化のせいでお前らの母校も馬鹿大学になっちまうという\n",
      "( 0.6124886274337769 )  【豊洲問題】豊洲問題 専門家会議「無害化」めぐり議論かみ合わず　築地業者ら怒りで打ち切り  ->  築地の汚染は妥協しまくってるくせにｗ\n",
      "( 0.6124879121780396 )  【経済】大阪からの本社移転、508社　東京・兵庫に集中　流出続く　94-14年度  ->  やっぱ大阪ってクソだわ\n",
      "( 0.6124874353408813 )  【宇宙】NASA、１００京円の価値のある小惑星「プシケ」を地球に持ち帰る計画を実行へ  ->  Ai搭載ロボットを送り込み、小惑星上で移動用プラントを建設。材料は現地調達。スイングバイを利用しつつ、地球の衛星軌道に。物資の輸送はリニアエレベーター？\n",
      "( 0.6124863624572754 )  【社会】男性同士でのラブホ断られ「あ、差別されたんだ」　大阪府のゲイのカップルが訴え  ->  本当の差別を受けている人たちに失礼\n",
      "( 0.6124832630157471 )  【国連】国連事務総長　国連特別報告者のテロ等準備罪法案批判について「国連の総意ではない」　安倍首相との会談で   ->  だからおまえは中学生からやりなおせ。特定の意見といってるが「国連の」という意味で特定されてんだよ。\n",
      "世界中の意見でなく、国連の意見という意味だ阿呆\n",
      "( 0.6124798655509949 )  【家庭】「夫はやっていない家の仕事がたくさん！」夫が家事と思っていない『名もなき家事』が存在。やっているのは9割が妻  ->  仕事忙しくて夜家で食べないから嫁絶対楽だわ\n",
      "( 0.6124790906906128 )  【中国6邦人拘束】「精神状態が心配だ」　社員が拘束の日本地下探査が会見  ->  未だに中国企業からの調査依頼でノコノコ行って拘束される企業があるんだな\n",
      "いい加減学習しろよ\n",
      "( 0.6124780178070068 )  【恐竜】歯のかみ合わせ悪いT・レックス、なぜ骨を粉々にできた？ 研究  ->  骨を粉々にするところを見たのかよ？\n",
      "( 0.6124750971794128 )  【天皇退位】「皇太子」称号に難色　秋篠宮さま意向で見送り  ->  バカ新聞　祖国に帰れ　ｗｗｗ\n",
      "( 0.6124722957611084 )  【天皇退位】＜陛下＞退位議論に「ショック」　宮内庁幹部「生き方否定」  ->  これめちゃくちゃ危険だぞ宮内庁と毎日新聞が天皇の威光を使って好き放題やろうとしてるんだからな\n",
      "( 0.6124715209007263 )  【皇室】＜女性皇族＞「結婚後も公務」政府検討　宮家創設は先送り  ->  皇族でないのに公務とか\n",
      "馬鹿なのか\n",
      "( 0.6124709248542786 )  【話題】日本人の血液型信仰　「B型」のイメージが悪いのはなぜ？  ->  A型は日本で１番多いが朝鮮でもA型が１番多い\n",
      "よってA型は朝鮮人と同じ気質と言ってもいい\n",
      "A型は朝鮮に帰ってくれ\n",
      "( 0.6124629378318787 )  【経済】白熱電球、ただでＬＥＤと交換します　東京都が７月から  ->  LED安くなったな\n",
      "交換に行く手間暇考えるとダイソーでは割に合わないな\n",
      "アイリスオーヤマとかオーム電機とかの安物の予感がする\n",
      "( 0.6124621033668518 )  【共謀罪】書簡提出の国連特別報告者、日本政府の抗議に反論「中身のないただの怒り。挙げた懸念に一つも反論が無かった」  ->  ﾊﾞｶｻﾖは世界の中で日本の共謀罪だけが特別異なる部分を説明しないと説得力がないぞw\n",
      "( 0.6124610900878906 )  【食中毒】生魚の寄生虫「アニサキス」　よくかめば大丈夫？  ->  まぁ鮭は大丈夫だけど鯖はダメって人がほとんどか。\n",
      "あんまりにもレアケースだからわざわざ書かんでも良かったとこだね。\n",
      "( 0.6124610304832458 )  【北ミサイル】米国務長官、北朝鮮への失望表明　「失望した。憂慮すべきことだ」  ->  日本はアメリカの消極的な姿勢に失望してるよ\n",
      "( 0.6124604344367981 )  【鉄道】国の重文指定ＳＬ、再塗装し雄姿再び…京都  ->  京都市美術館のオブジェ解体のスレはどこ？\n",
      "( 0.6124570369720459 )  【話題】経産省若手官僚による“日本なんとかしないとヤバい”的資料に注目集まる  ->  ほんとにそう思うよ。\n",
      "無駄な長期学校教育にブラック非正規奴隷従業員がワンセットに\n",
      "なって日本の若者から生きる気力を失わせるんだよね。\n",
      "( 0.6124567985534668 )  【国際】北朝鮮問題、軍事解決は「信じられない規模の悲劇」もたらす＝マティス米国防長官  ->  韓国大統領が気に入らないからかもしれないな\n",
      "北を強硬に脅して膝を折らせたら、\n",
      "ムンが勝利宣言するの目に見えてるし、\n",
      "面白くないのかもな。\n",
      "( 0.6124533414840698 )  【社会】「仮眠時間は労働時間に当たる」　イオン系警備員に177万円の支払い命じる  ->  この判決がきっかけで、仮眠時間じゃ無くて明確に拘束しない無給の休憩時間になるな\n",
      "( 0.6124525666236877 )  【天皇退位】「皇太子」称号に難色　秋篠宮さま意向で見送り  ->  失礼ながらさーやのO脚は皇后陛下にそっくりで、眞子様にまで遺伝している。\n",
      "一番正田家の痕跡がないのは皇太子殿下だったりする。\n",
      "( 0.6124523282051086 )  【宅配】ヤマト値上げが裏目に？　運送会社化するアマゾン  ->  ヤマトは値上げして根上げたか\n",
      "( 0.6124505996704102 )  【経済】白熱電球、ただでＬＥＤと交換します　東京都が７月から  ->  割合で言うと４０％くらい。\n",
      "でも、長時間使用する居間と机の照明はLED。\n",
      "トイレとか短時間使用のところは白熱電球のまま、切れたらその後LEDに交換予定。\n",
      "( 0.6124502420425415 )  【裁判】知的障害の少年が施設で死亡し両親が損害賠償請求。施設は「逸失利益」をゼロと算出し争う姿勢  ->  障害児産んで置いてさらに死んだ子で金儲けしようとかひどい親だな\n",
      "( 0.6124480366706848 )  【社会】「ノロ患った」とウソ申告しパチンコへ　国税職員を懲戒処分、辞職 「同期より仕事できず劣等感。人と接する仕事つらかった」  ->  税務署の人間なら親の敵のように接せられる事が多いのかな？ｗ\n",
      "何れにせよ、やるならやる、辞めるなら辞める、とはっきりした方がいいよな\n",
      "( 0.6124475002288818 )  【社会】「ウィッス！5万円ちょーだい！」江戸川区でチャラ男3人衆が朝からカツアゲ  ->  東京全体で治安がわるいだろ\n",
      "( 0.6124468445777893 )  【痴漢電車】女性「下においてあるカバンを持ち上げたら痴漢だと思う」　４割が痴漢と判定  ->  これ男の方も痴漢と疑われそうな行為1位に選んでるんだから\n",
      "怪しく思われて避けた方が良い行為として男女合意と見てよろしいのでは？\n",
      "( 0.6124467253684998 )  【皇室】眞子さまの婚約相手・小室圭さんが会見「時期が参りましたら…」  ->  それが目的で皇后美智子がリークしたんでしょうよ。\n",
      "( 0.612445592880249 )  【宅配】ヤマト値上げが裏目に？　運送会社化するアマゾン  ->  エンジン音、スライドドアの音、階段上る足音。\n",
      "どれも解消できるって、アマゾンだもん 笑\n",
      "( 0.6124452948570251 )  【健康】塩分摂取１位「カップ麺」、１日5.5グラム　「食品ランキングを活用して」　国立研究法人  ->  運動して汗かいて塩を出せばいいんだろ？\n",
      "ドカタとかカップめんにコンビニ弁当でも健康だモンな\n",
      "( 0.612443208694458 )  【国防】空自、尖閣諸島上空を飛ぶ中国のドローンに対し異例の緊急発進  ->  尖閣に無人機の発着場作って、そいつ機迎撃させろよ\n",
      "やだ私、超名案言ったかも・・・\n",
      "( 0.6124430894851685 )  【米軍】北朝鮮脅威踏まえ修正検討＝沖縄海兵隊のグアム移転  ->  日米の同盟軍創立の布石かな\n",
      "( 0.6124429702758789 )  【天皇退位】＜陛下＞退位議論に「ショック」　宮内庁幹部「生き方否定」  ->  政治的ではないだろ？\n",
      "皇位継承やら皇室典範やらに口出せなくなった初めての天皇だぞｗ\n",
      "昭和天皇は少なくとも戦前は口出せたし\n",
      "( 0.6124423742294312 )  【ＩＴ】Gmailに新機能、AIがメールを解析し返信文作成！iOSにも対応  ->  何に使うんだろうと思ったがちゃんとした文面作れるのならメールサポートオペレーターとして使えるのか。\n",
      "音声認識と組み合わせて電話サポートできるようにしてくれればクレーマー対策になる w\n",
      "( 0.6124417781829834 )  【広島】警察署で8500万円盗難 内部犯行か  広島、抗議電話鳴りやまず  ->  捕まえられないというか捕まえたくないんだよ\n",
      "広島中央署の警察官が犯人だから\n",
      "もちろん署長もグル\n",
      "( 0.6124417781829834 )  【社会】高齢ドライバー問題　「MT車活用」が大きな糸口となるか  ->  AT車のせいでこんな事故起きてるんだよ\n",
      "欠陥&猿でもパカパカ踏めば走るせい\n",
      "MTだらけになれば車間もちゃんと保つし運転に集中するいいことだらけやん\n",
      "( 0.6124395728111267 )  【お知らせ】もうみんな本気で忘れてると思うけど、今日は「プレミアムフライデー」だからね  ->  今日のおかずはフライでー\n",
      "( 0.612438440322876 )  【ネット】「貴女が痴漢で訴えるなら、私は名誉毀損で訴えます」　冷静に対応して痴漢冤罪を撃退した男性が話題に  ->  ちんこおしつけで有罪\n",
      "( 0.6124366521835327 )  【社会】旧日本海軍「伊58」？　海底に突き刺さった潜水艦発見  ->  伊号第三十三潜水艦みたいに、乗組員の遺体がまるで生身のごとく、そのまま残っていたりするんだろうか\n",
      "( 0.6124345064163208 )  【広島】ネコの楽園で違法トラバサミ被害相次ぐ　仕掛けた男性「自宅敷地のネズミ駆除が目的、法律違反には当たらない」  ->  猫狙ってるなら堂々と主張すればいいのに。\n",
      "こんなの観光資源にするなと。猫を全て殺処分しろと。\n",
      "他の同類のキチはちゃんとそうやってるぞ。\n",
      "( 0.6124345064163208 )  【ネット】「貴女が痴漢で訴えるなら、私は名誉毀損で訴えます」　冷静に対応して痴漢冤罪を撃退した男性が話題に  ->  2ちゃんでも｢男に触られた｣って男の証言チラホラあるよな\n",
      "俺もオッサンに尻の割れ目をカバンで擦られたり新聞紙で乳首刺激されたりしたことある\n",
      "すげえ器用ってか完全に馴れてる常習犯\n",
      "( 0.6124342679977417 )  【食】若者の和菓子離れ　「求肥」「落雁」を知らない若者たち  ->  和菓子で一番ポピュラーって言うと串団子だけど\n",
      "スーパーとかコンビニで売ってる串団子は団子を取ったら串がベタベタになるけど\n",
      "まともな串団子だったら串はベタベタにならないからな\n",
      "( 0.6124342679977417 )  【埼玉３歳女児死亡】内縁夫に懲役１２年６月判決　傷害罪は無罪  ->  大阪二児虐待死事件\n",
      "( 0.6124331951141357 )  【社会】中国人が日本の医療にタダ乗り！制度の盲点を突く…1円も払わないケースも　日本人患者にしわ寄せ  ->  普段は、小国は黙ってろとか威張ってる中国だよ。キンぺーさんが、倍にして日本に金を出してくれるやろw\n",
      "小国に自国民が集るのを放置していれば、二度と大国面できないよw\n",
      "( 0.6124331951141357 )  【テロ等準備罪】賛成多数で可決　− 衆院法務委  ->  サヨクが反対してる法案は全て正しいに決まってる\n",
      "だから俺は無条件で賛成だって考えは余りに危険だぞ\n",
      "( 0.6124311685562134 )  【社会】宮内庁、毎日新聞の「陛下　公務否定に衝撃」報道を全面的に否定　「そうした事実はない」  ->  宮内庁批判は今に始まった事ではなく\n",
      "元皇族ですら批判してる実態があるからね\n",
      "宮内庁の官僚は政治的に陛下を利用してるんだし\n",
      "( 0.6124246716499329 )  【社会】自殺死亡率：日本はワースト6位　先進国の最悪レベル　厚労省分析結果  ->  自殺じゃないのも自殺に入ってる数結構ありそうだからなぁ…\n",
      "こないだの今治の事件とか\n",
      "( 0.612424373626709 )  【社会】これだけやっても不起訴　「少女に強制わいせつ　大阪府警元警察官」　なぜなら，警察官だから  ->  公務員と自衛官は無罪になる。\n",
      "馬鹿安部自民が糞だから。\n",
      "( 0.6124237775802612 )  【出会い系バー出入り】前川・前文科次官「行ったことは事実」「女性の貧困について実地の視察調査の意味合いがあった」  ->  援助交際の相手を見つけたりしてお金をもらう女性と\n",
      "食事をしたり、お金をあげたりして意義があったと思っている\n",
      "前川喜平　前文部科学事務次官\n",
      "こんな奴が何を言ったところでなんだが\n",
      "( 0.6124236583709717 )  「アベノミクスは正しかった」 ＧＤＰ年率２．２％増、ＦＴ・ブルームバーグなど海外メディアが安倍首相の手腕を再評価  ->  FTの元記事読んだら、賞賛しているニュアンスは感じないのだが？\n",
      "GDPは算出方法で、どうとでもなるし\n",
      "一喜一憂するものでは無いぞ\n",
      "( 0.612423300743103 )  【北ミサイル】米国務長官、北朝鮮への失望表明　「失望した。憂慮すべきことだ」   ->  ロシアとしては北朝鮮はアメリカの足を引っ張るツール\n",
      "中国としては自分に非難が及ばないようにする道化\n",
      "この二国は北朝鮮が存続したほうが都合がいいんだよな\n",
      "( 0.6124226450920105 )  「アベノミクスは正しかった」 ＧＤＰ年率２．２％増、ＦＴ・ブルームバーグなど海外メディアが安倍首相の手腕を再評価  ->  さあGDPは五期プラス\n",
      "アベノミクスは成功だよな？バカチョンサポwww\n",
      "( 0.6124216318130493 )  【カール販売中止】明治｢売れ行きが西日本に偏っていた訳ではありません。生産効率と生産拠点からの物流を総合的に考えた結果です｣  ->  関東の工場も含め松山工場以外はカール生産ラインをチョコレート生産ラインに入れ替えるんだよ。\n",
      "だから、今後は松山工場だけでの製造になる。そこから東京の為だけに送るのか？\n",
      "( 0.6124216318130493 )  【宅配】ヤマト値上げが裏目に？　運送会社化するアマゾン  ->  アメリカでやって大失敗\n",
      "アマゾン宅急便なんかやらんよ、こんなのデマ記事\n",
      "( 0.6124206185340881 )  【日本版ＧＰＳ衛星】「みちびき」　自動運転にマラソンに…高精度の位置情報、活用期待  ->  間抜けなのはおまえだろ。\n",
      "なぜ、みちびきだけで測位しなきゃならんのだ。\n",
      "GPSとセットで使えば精度が向上するのに、なにが使用不能なんだよ。\n",
      "( 0.6124191284179688 )  【社会】自殺死亡率：日本はワースト6位　先進国の最悪レベル　厚労省分析結果  ->  単純に他の国は自殺する前に病死やら事件事故に巻き込まれてるだけじゃないの\n",
      "( 0.6124144792556763 )  【痴漢電車】女性「下においてあるカバンを持ち上げたら痴漢だと思う」　４割が痴漢と判定  ->  この際だから、女の隣に居る奴は皆痴漢にしたらいい\n",
      "( 0.6124136447906494 )  【体罰】「愛の鞭」やめて…子供の脳に悪影響 厚労省  ->  体罰厳しかった親戚は皆さんスーパー高学歴だわ\n",
      "甘やかした子はダメだった\n",
      "( 0.6124136447906494 )  【YInMnブルー】「新しい青」200年ぶりに発見、クレヨンとして年内発売へ　1802年にコバルトブルーが発見されて以来の新たな青  ->  おおー、たしかに見た事ない青だ\n",
      "21世紀になってもまだ見つかってない色ってあるんだなぁ\n",
      "宇宙まで探しに行けば、想像もしてなかったような色が見つかるかもね\n",
      "( 0.6124125123023987 )  【仮想現実】売上が伸び悩むVRヘッドセット、なぜ売れないのか…価格が高くコンテンツが少ないことや「単純に興味がない」人も多く  ->  バカかよ\n",
      "瑣末なネタに引っ張り込もうとしても無駄\n",
      "ARは拡張現実であって誰かの顔見るのが目的では無い\n",
      "現実世界に情報を表示してリンクさせたり共有したりするものだよ\n",
      "( 0.6124123334884644 )  【地方創生】政府、空き店舗が立つ土地への課税強化を検討･･･出店希望者への貸し出しや売却を促す狙い  ->  シャッター通りは店舗併用住宅がほとんどだろ？\n",
      "だから固定資産税が大した事ない\n",
      "駐車場なんかにすると固定資産税が跳ね上がる\n",
      "( 0.6124082803726196 )  【おしどり隊】女性警官だけの「特別機動隊」結成　皇族や政界の要人警護も  ->  あんただって、女だてらに特機の隊長さんなどしていらっしゃる。\n",
      "( 0.6124076843261719 )  【体罰】「愛の鞭」やめて…子供の脳に悪影響 厚労省  ->  親が子供にした事は子供の腕力が親を超えた時に同じ分だけ返される。\n",
      "子供に体罰した親は子供に体罰される。\n",
      "( 0.6124064326286316 )  【社会】中国人が日本の医療にタダ乗り！制度の盲点を突く…1円も払わないケースも　日本人患者にしわ寄せ  ->  その怒りの矛先を間違えてる奴が多いよね\n",
      "今回の問題も在日特権も与えてるのは日本人なのに受けてる側を批判してどうすんのって感じ\n",
      "( 0.6124062538146973 )  【IT】政府、「サイバー攻撃」に対してサイバー手段で反撃できるよう法整備を検討  ->  具体的にどうすんの？\n",
      "乗っ取られてる一般人のＰＣに向けて攻撃すんのか？\n",
      "( 0.6124051809310913 )  【出会い系バー出入り】前川・前文科次官「行ったことは事実」「女性の貧困について実地の視察調査の意味合いがあった」  ->  貧困調査なら出会い系バー　前川喜平キリッ\n",
      "そうですか。知らなかったなあ\n",
      "( 0.6124048829078674 )  【広島】ネコの楽園で違法トラバサミ被害相次ぐ　仕掛けた男性「自宅敷地のネズミ駆除が目的、法律違反には当たらない」  ->  いや、そもそも猫除け対策費用を猫被害者が負担する謂れが無いんだよ。\n",
      "( 0.6124029159545898 )  【痴漢電車】女性「下においてあるカバンを持ち上げたら痴漢だと思う」　４割が痴漢と判定  ->  痴漢を\n",
      "男も女も擁護しない\n",
      "男は痴漢逮捕に協力する\n",
      "痴漢冤罪を\n",
      "男は糾弾する\n",
      "女は擁護し反省しない\n",
      "結論\n",
      "女は畜生\n",
      "( 0.6123964190483093 )  【栃木】刑務所でもイスラム教徒のラマダン（断食月）やスカーフ着用に配慮して　日弁連が栃木刑務所に申し入れ  ->  だったらイスラム教国以外で捕まるような事スンナと\n",
      "( 0.6123944520950317 )  【国際】インドの人口、すでに中国を抜いた可能性　約１３億３０００万人　中国の総人口は「盛っている」と米専門家  ->  インド→レイプマン激増\n",
      "中国→反日激増\n",
      "( 0.6123934984207153 )  【広島】ネコの楽園で違法トラバサミ被害相次ぐ　仕掛けた男性「自宅敷地のネズミ駆除が目的、法律違反には当たらない」  ->  本人も猫を捕らえる目的でトラバサミを使うとダメだと思ってるから\n",
      "ネズミ目的だと言ってるんでしょ\n",
      "( 0.6123912930488586 )  【痴漢電車】女性「下においてあるカバンを持ち上げたら痴漢だと思う」　４割が痴漢と判定  ->  痴漢と冤罪の議論は無意味だぞ\n",
      "男にとっては鞄を持ち上げても冤罪だし\n",
      "女にとっては鞄を持ち上げたら痴漢\n",
      "同じ行為でも性別で認識が違いすぎる\n",
      "( 0.6123908162117004 )  【食】若者の和菓子離れ　「求肥」「落雁」を知らない若者たち   ->  煎餅も和菓子とするなら、和菓子食ってるな、うん。\n",
      "( 0.6123898029327393 )  【米国】大麻需要は「アイスクリームを超える」、米専門サイトが報告書  ->  コカインやヘロインもアイスクリームぐらい余裕で超えると思うけど？\n",
      "( 0.6123857498168945 )  【宅配】ヤマト値上げが裏目に？　運送会社化するアマゾン  ->  Amazonは早くドローン配達を実現するんだっ！\n",
      "( 0.6123846769332886 )  【社会】中国人が日本の医療にタダ乗り！制度の盲点を突く…1円も払わないケースも　日本人患者にしわ寄せ  ->  日本の皆保険を崩壊させろっていうアメリカの指示があるから\n",
      "安倍ちょんは守ってるだけだよ\n",
      "( 0.612384557723999 )  【ネット】「テレビを見ないとバカになる」？　この発想はどこから出たのかネットで議論に  ->  テレビで体に良い栄養素を含む食材を紹介するだけで\n",
      "翌日買いに行く馬鹿が産まれるからな。\n",
      "馬鹿になるんだろ。\n",
      "( 0.612384557723999 )  【社会】宮内庁、毎日新聞の「陛下　公務否定に衝撃」報道を全面的に否定　「そうした事実はない」  ->  捏造を許す環境ってのが今の環境だろ\n",
      "さっき書いたように\n",
      "周囲の人間も政府も陛下のご意向は決して外に出さない\n",
      "これが捏造を許さない環境であり、こうしつをまもるために必要なんだよ\n",
      "( 0.612384557723999 )  【将棋】ドワンゴ主催の「叡王戦」がタイトル戦に昇格、「竜王」「名人」「王位」「王座」「棋王」「王将」「棋聖」「叡王」の八冠に  ->  日清主宰のラ王とか、 バイク屋主宰のバイク王とか色々\n",
      "( 0.6123841404914856 )  【社会】コウノトリ、誤射で死ぬ　島根、ハンターがサギと間違う  ->  いや、サギだとしてもなぜうつ？\n",
      "ハンターとかいなくなってほしい\n",
      "( 0.6123835444450378 )  【調査】虫歯１人１０本以上…「口腔崩壊」児童３４６人　学校の歯科検診「要受診」の６割以上が医者行かず　兵庫  ->  若い歯医者が3割減ってても若い人口も３割減ってるから実質変わらんだろ。\n",
      "今の50代の歯医者が引退する頃には団塊が絶滅寸前で人口自体がからり減るから割合は変わらん。\n",
      "( 0.6123806238174438 )  【加計学園】日時や出席者が特定された文書に「官邸の最高レベルが言っている」などと対応を求める文言が記されていることが判明  ->  官僚があんな話し言葉みたいな文書書くかなあ\n",
      "( 0.6123800277709961 )  【社会】「爪のようなものが」ローソンの『サラダチキン』に異物混入  ->  アカの爪でも煎じて\n",
      "( 0.612377941608429 )  【ネット】「貴女が痴漢で訴えるなら、私は名誉毀損で訴えます」　冷静に対応して痴漢冤罪を撃退した男性が話題に  ->  男性が話題って\n",
      "フィクトチェックしたのかよファックフェイクだろこんなもん\n",
      "( 0.6123730540275574 )  ＬＥＤ照明は「非成長市場」の危機感…震災後の需要が一巡＆長寿命があだになり買い替え需要の伸びが見込めず  ->  LEDは樹脂が劣化する様にすれば安泰ですね😁\n",
      "( 0.6123727560043335 )  【天皇退位】＜陛下＞退位議論に「ショック」　宮内庁幹部「生き方否定」  ->  天皇陛下は国家元首であるのが望ましいが\n",
      "左傾老人やメディアがうるさいから、問題にならない\n",
      "( 0.6123692989349365 )  【国交省】三菱自２万３０００台リコール＝エンジン動かぬ恐れ  ->  GDIとか懐かしいな\n",
      "泣く子も黙る車検に通らない最凶のエンジン\n",
      "( 0.6123625040054321 )  【食】若者の和菓子離れ　「求肥」「落雁」を知らない若者たち  ->  おっさんだけど求肥が何か知らんかった\n",
      "落雁は結構好き\n",
      "( 0.6123624444007874 )  【生活の知恵】本当は怖いタワーマンション　絶景眺望の落とし穴「高層階症候群」とは  ->  原因を考えるなら\n",
      "タワーマンションに住めるくらいの高所得世帯がゆえの\n",
      "慢性的な運動不足とかじゃねえの？\n",
      "階段しかない団地の高層階なんてジジババでも元気やん。\n",
      "( 0.6123615503311157 )  【富山】家間違え入った消防署員に暴行　公務執行妨害容疑で男逮捕　高岡市  ->  不法侵入だあｋら逮捕は消防士の方\n",
      "はい　終わり\n",
      "( 0.6123614311218262 )  【生活の知恵】「あなた、つけすぎです」　台所用洗剤の正しい使用量を知って驚いた  ->  リアップつけすぎ\n",
      "( 0.6123608350753784 )  【健康】塩分摂取１位「カップ麺」、１日5.5グラム　「食品ランキングを活用して」　国立研究法人  ->  液体系は感じる塩辛さよりも塩分が多いと覚えておくと良い。\n",
      "ソース、醤油、味噌汁、スープ系（ラーメン含む）などな。\n",
      "( 0.6123604774475098 )  【カメラ】スマホ普及で売れないコンデジ　このまま消滅してしまうのか  ->  スマホから取り外し出来るコンデジ作ってくれ\n",
      "レンズはツァイスで\n",
      "( 0.6123597025871277 )  【皇室】眞子さまの婚約相手・小室圭さんが会見「時期が参りましたら…」  ->  自分でリークしたなら翌日すぐに警視庁の警備がつくだろうか\n",
      "天皇のお気持ち表明と同じパターンでNHKが速報出すだろうか\n",
      "どう考えても陛下にすごく親い関係者wの方のリークだよ\n",
      "( 0.6123576164245605 )  【大阪】警察官が3人がかりで取り押さえ、膝蹴り　府警「逮捕にともなう制圧行為の一環」 目撃者「抵抗していない外国人にやりすぎ」  ->  その通りだと思う\n",
      "警察の存在は、まず抑止力にならねばならない\n",
      "昨今、DQNに舐められっぱなし\n",
      "バカじゃねーのかって位に低姿勢だし\n",
      "( 0.6123573780059814 )  【訴訟】高須院長、民進党らを提訴　大西議員のＣＭ「陳腐」発言めぐり  ->  糞ＣＭを国会議員が公費つかって非難するの？\n",
      "( 0.6123542189598083 )  【神奈川】警視庁巡査長を逮捕　中３とみだらな行為の疑い  ->  またまた警察か\n",
      "( 0.6123511791229248 )  【川柳】「ゆとりでしょ？そう言うあなたは…」　サラリーマン川柳、上位作品発表  ->  ヤフーでググれだな\n"
     ]
    }
   ],
   "source": [
    "for example in train_dataset.sort('similarity', reverse=True).select(range(100)):\n",
    "    # if \">\" in example[\"comment\"]:\n",
    "    print(\"(\", example['similarity'], \") \", example['topic'], \" -> \",example['comment'])"
   ]
  },
  {
   "cell_type": "code",
   "execution_count": null,
   "id": "1b3ff890-6f5c-4ae4-854c-052a4d9ba17a",
   "metadata": {},
   "outputs": [],
   "source": []
  }
 ],
 "metadata": {
  "kernelspec": {
   "display_name": "Python 3 (ipykernel)",
   "language": "python",
   "name": "python3"
  },
  "language_info": {
   "codemirror_mode": {
    "name": "ipython",
    "version": 3
   },
   "file_extension": ".py",
   "mimetype": "text/x-python",
   "name": "python",
   "nbconvert_exporter": "python",
   "pygments_lexer": "ipython3",
   "version": "3.11.6"
  }
 },
 "nbformat": 4,
 "nbformat_minor": 5
}

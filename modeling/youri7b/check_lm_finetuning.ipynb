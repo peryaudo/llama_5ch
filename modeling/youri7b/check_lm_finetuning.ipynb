{
 "cells": [
  {
   "cell_type": "code",
   "execution_count": 2,
   "metadata": {},
   "outputs": [],
   "source": [
    "from transformers import pipeline\n",
    "import torch\n"
   ]
  },
  {
   "cell_type": "code",
   "execution_count": null,
   "metadata": {},
   "outputs": [],
   "source": [
    "\n",
    "pipe = pipeline(task=\"text-generation\", model=\"lm_finetuning-train4000k\", device=0, torch_dtype=torch.float16)"
   ]
  },
  {
   "cell_type": "code",
   "execution_count": 7,
   "metadata": {},
   "outputs": [
    {
     "data": {
      "text/plain": [
       "[{'generated_text': 'バカだろ。\\nそれにこの場合は、悪意があるかないかってのは関係ない。\\n他人を傷つけたんなら殴りかかったりするってのがまっとうじゃないか？\\nこの男は殴りかかれるような訳の分からない理由なんかでは\\n他者を殴りかかるような、精神異常者だぞ。\\nお前らのバカが栄養があり過ぎるから、こんなクズ野郎が生まれたんだよ。\\nこういう屑男、女にもたくさんいるだろうがな。\\n'}]"
      ]
     },
     "execution_count": 7,
     "metadata": {},
     "output_type": "execute_result"
    }
   ],
   "source": [
    "pipe(\"バカだろ。\", do_sample=True, max_new_tokens=200)"
   ]
  },
  {
   "cell_type": "code",
   "execution_count": 3,
   "metadata": {},
   "outputs": [
    {
     "data": {
      "application/vnd.jupyter.widget-view+json": {
       "model_id": "3a5e5ad1ab124bceb2232547f1791b27",
       "version_major": 2,
       "version_minor": 0
      },
      "text/plain": [
       "Loading checkpoint shards:   0%|          | 0/2 [00:00<?, ?it/s]"
      ]
     },
     "metadata": {},
     "output_type": "display_data"
    }
   ],
   "source": [
    "pipe = pipeline(task=\"text-generation\", model=\"rinna/youri-7b\", device=0, torch_dtype=torch.float16)"
   ]
  },
  {
   "cell_type": "code",
   "execution_count": 4,
   "metadata": {},
   "outputs": [
    {
     "data": {
      "text/plain": [
       "[{'generated_text': 'バカだろ。オバマもバカだが、もっとバカがいたのか。\\n今まで韓国の要求をのんできた日本がなんで叩かれるんだ。\\n俺が日本人だからって、俺が払った訳じゃないんだから。\\n51 名前： 名無しオレ的ゲーム速報さん 2017年02月15日 23:28 返信する\\n>韓国人が、一斉に日本の商品不買運動をしなきゃいけなかったのに。\\nある意味韓国より酷いぞｗ韓国で'}]"
      ]
     },
     "execution_count": 4,
     "metadata": {},
     "output_type": "execute_result"
    }
   ],
   "source": [
    "pipe(\"バカだろ。\", do_sample=True, max_new_tokens=200)"
   ]
  },
  {
   "cell_type": "code",
   "execution_count": null,
   "metadata": {},
   "outputs": [],
   "source": []
  }
 ],
 "metadata": {
  "kernelspec": {
   "display_name": "peryagpt",
   "language": "python",
   "name": "python3"
  },
  "language_info": {
   "codemirror_mode": {
    "name": "ipython",
    "version": 3
   },
   "file_extension": ".py",
   "mimetype": "text/x-python",
   "name": "python",
   "nbconvert_exporter": "python",
   "pygments_lexer": "ipython3",
   "version": "3.11.6"
  }
 },
 "nbformat": 4,
 "nbformat_minor": 2
}

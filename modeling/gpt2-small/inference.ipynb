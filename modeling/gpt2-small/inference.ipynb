{
 "cells": [
  {
   "cell_type": "code",
   "execution_count": 2,
   "id": "f1bac846-bf1b-4f71-bb55-55b99fff5274",
   "metadata": {},
   "outputs": [],
   "source": [
    "from transformers import (\n",
    "    AutoModelForCausalLM,\n",
    "    AutoTokenizer,\n",
    ")\n",
    "import torch"
   ]
  },
  {
   "cell_type": "code",
   "execution_count": 3,
   "id": "6928285a-1e19-4197-864e-c8ce57582d95",
   "metadata": {},
   "outputs": [
    {
     "name": "stderr",
     "output_type": "stream",
     "text": [
      "You are using the default legacy behaviour of the <class 'transformers.models.t5.tokenization_t5.T5Tokenizer'>. This is expected, and simply means that the `legacy` (previous) behavior will be used so nothing changes for you. If you want to use the new behaviour, set `legacy=False`. This should only be set if you understand what it means, and thouroughly read the reason why this was added as explained in https://github.com/huggingface/transformers/pull/24565\n"
     ]
    }
   ],
   "source": [
    "# model = AutoModelForCausalLM.from_pretrained(\"rinna/japanese-gpt2-small\", device_map={\"\": 0})\n",
    "# model = AutoModelForCausalLM.from_pretrained(\"train100k\", device_map={\"\": 0})\n",
    "# model = AutoModelForCausalLM.from_pretrained(\"train100k\", device_map={\"\": 0})\n",
    "# model = AutoModelForCausalLM.from_pretrained(\"similar10k-2\", device_map={\"\": 0})\n",
    "# model = AutoModelForCausalLM.from_pretrained(\"one_epoch-400k-pretrained-2\", device_map={\"\": 0})\n",
    "model = AutoModelForCausalLM.from_pretrained(\"train10k-pretrained\", device_map={\"\": 0})\n",
    "\n",
    "tokenizer = AutoTokenizer.from_pretrained(\"rinna/japanese-gpt2-small\", use_fast=False)\n",
    "tokenizer.do_lower_case = True"
   ]
  },
  {
   "cell_type": "code",
   "execution_count": 4,
   "id": "7e27a90b-b33d-41f7-bd0c-4dbced97ffd1",
   "metadata": {},
   "outputs": [],
   "source": [
    "def generate(topic):\n",
    "    text = f\"質問: 匿名掲示板5ちゃんねるの投稿者として、以下のニュースにコメントしてください。\\nニュース: {topic}\\nコメント: \"\n",
    "    token_ids = tokenizer.encode(text, add_special_tokens=False, return_tensors=\"pt\")\n",
    "    \n",
    "    with torch.no_grad():\n",
    "        output_ids = model.generate(\n",
    "            token_ids.to(model.device),\n",
    "            max_new_tokens=200,\n",
    "            do_sample=True,\n",
    "            pad_token_id=tokenizer.pad_token_id,\n",
    "            bos_token_id=tokenizer.bos_token_id,\n",
    "            eos_token_id=tokenizer.eos_token_id\n",
    "        )\n",
    "    \n",
    "    output = tokenizer.decode(output_ids.tolist()[0])[len(tokenizer.decode(token_ids.tolist()[0])):]\n",
    "    print(output)"
   ]
  },
  {
   "cell_type": "code",
   "execution_count": 5,
   "id": "881d3e50-fa1d-4ae7-bc82-c28423e79c99",
   "metadata": {},
   "outputs": [],
   "source": [
    "def generate_n(topic, n):\n",
    "    for i in range(n):\n",
    "        generate(topic)"
   ]
  },
  {
   "cell_type": "code",
   "execution_count": 6,
   "id": "2ed344f8-3d98-43c2-91a9-2144895603af",
   "metadata": {},
   "outputs": [
    {
     "name": "stdout",
     "output_type": "stream",
     "text": [
      " 整形してるんでしょ、どうせ</s>\n",
      " 普通に車間距離とれば大丈夫なのに車間距離取れない馬鹿多すぎ どんだけ車間距離とってんだよ 車間距離取れてんの?</s>\n",
      " まもなく逮捕!!</s>\n",
      " 無免許運転って12点減点で免停120日かと思ってたが、今は違うのか・・・</s>\n",
      " 無免許運転って12点減点で免停120日の短縮教習拒否すると無免許にしてくれるらしい</s>\n",
      " それ盗撮で逮捕されね?</s>\n",
      " ええー 違反になるの?</s>\n",
      " 20代ならまだ逃げ切れたのに、こういうので責任逃れとはおかしいな</s>\n",
      " 神奈川の奴か もう諦めろって</s>\n",
      " 危ない・危なくないにかかわらず こういう奴は車道側に走って欲しくないし そもそもドライバーの負担が大きく、事故になれば 国交大臣の間で解決する問題だろ。</s>\n",
      " こういう奴は大事故率高いんだろうな</s>\n",
      " 学生のときバイトしてたな 社員の人はバイト上がりでいかにも元ヤンて人だったわ もちろん普通の人もいたけどさ なんかトラックの運転手を思い浮かべるようなモヤモヤした感じだったよ</s>\n",
      " 何で避けなきゃなんないんだ? てめえの人生はてめえで守れ 他人の人生の選択を誤る奴は、軽度の池沼だろうが、 死んで償ってからにしろ</s>\n",
      " なんで前足でアクセルやブレーキを行き来させるんだ。 半端ない車だな。</s>\n",
      " 近場だが、事故にならなかった。 教師は、バカで無能だと思った。</s>\n",
      " 俺は20才で無免許だけど無条件で無車にした俺のバイクに乗ればいいんじゃね</s>\n",
      " 無免許運転って12点減点で免停120日かと思ってたが、今は違うのか・・・</s>\n",
      " 「バランス取れない馬鹿は免許返上すべし」 こういう免停講習があるといいと思う。 あんまり意味が無さそう。</s>\n",
      " こういうやつらが子供を川に沈めて生放送してたんだろうな 映像が残っているようだが、さすがに波に(ノд<unk> )ハァ・・・</s>\n",
      " 危ない・危なくないにかかわらず 走ってもいい歩道ですという意味なら理解できる。</s>\n"
     ]
    }
   ],
   "source": [
    "generate_n(\"羽田空港近くでバイクが縁石に接触、後ろに乗っていた男子高校生が死亡…無免許運転\", 20)"
   ]
  },
  {
   "cell_type": "code",
   "execution_count": 7,
   "id": "8572cd45-dcd1-41b4-ad11-f929d189792b",
   "metadata": {},
   "outputs": [
    {
     "name": "stdout",
     "output_type": "stream",
     "text": [
      " 北陸の南海トラフの心配なし</s>\n",
      " 福岡が津波にあうと思ってるのか</s>\n",
      " 海に近いのに、津波怖いなぁ、って感じのスレ?</s>\n",
      " 震災で一万年以内に震度6以上の地震が起きたらどうすると思うんだ</s>\n",
      " 東海南海地震だな、本日のニュースから 震源の深さが判明してるぞ。</s>\n",
      " 地震大国金沢でm4なんか予測できたかな?</s>\n",
      " 何この人、九州に居たの? 俺は東北だけど 福岡か熊本みたいな地方で大地震が起きても 何にも起きないと思える気がする。</s>\n",
      " 石川県と滋賀県が震源なのに石川県警は「南海トラフ来るんじゃね?」ってか</s>\n",
      " 福岡と違って福岡は地震と津波が一緒というか、 南海トラフとか、地震の兆候がない</s>\n",
      " 日本中どこを探してもどこ見ても、どこ見てもどこ見ても、 どこ見ても、どこ見てもない 地図もどこ入ってもどこ見てても どこ見てもどこ見ても どこを見てもどこ見ても</s>\n",
      " 地震や津波が怖くて金も出さないよ</s>\n",
      " 地震対策じゃなくて地震対策じゃなく、耐震、安心、というやつ 耐震を言っても震度5で震度6で大きめ 地震対策は耐震より安心がいい</s>\n",
      " 石川県は、海沿いを海鮮料理を輸出する気があるんだ。 海鮮料理の料理人を輩出するには、北陸は必須。 東京に来れない人は、北陸なんて行かないという。 北陸と横浜は、北陸と横浜。 大阪は大阪、福岡しか行き場所がない。</s>\n",
      " 輪島と和歌山では30年以内に発生が確実になると言われてるね。 九州も南海トラフ並に今年はやめとけ。</s>\n",
      " 新潟(山ノ内)より新潟のほうが大きな地震が発生する確率は高いと 証明されているぞ</s>\n",
      " 関東平野、東海平野、西から東と4つに分けたら何が入る? 関西・東北・中部・北陸・東海・関西・山陰・島根・対馬・南九州 だよね</s>\n",
      " 俺の住んでいる地域は、その揺れの前から山々越えて来てるから</s>\n",
      " p波迎撃用の高精度paeをお使いください。</s>\n",
      " 金沢も大地震あるよ</s>\n",
      " 震度1で死ぬ確率も、熊本のほうが高いかもしれない だからm7が7割を超えなければ、どうやったって地震は起きない</s>\n"
     ]
    }
   ],
   "source": [
    "generate_n(\"石川県能登地方でM5.5の地震　輪島市で震度5強　津波の心配なし\", 20)"
   ]
  },
  {
   "cell_type": "code",
   "execution_count": null,
   "id": "09c7b0ad-46bd-441a-9c49-6bea19b37c11",
   "metadata": {},
   "outputs": [],
   "source": []
  }
 ],
 "metadata": {
  "kernelspec": {
   "display_name": "Python 3 (ipykernel)",
   "language": "python",
   "name": "python3"
  },
  "language_info": {
   "codemirror_mode": {
    "name": "ipython",
    "version": 3
   },
   "file_extension": ".py",
   "mimetype": "text/x-python",
   "name": "python",
   "nbconvert_exporter": "python",
   "pygments_lexer": "ipython3",
   "version": "3.11.6"
  }
 },
 "nbformat": 4,
 "nbformat_minor": 5
}
